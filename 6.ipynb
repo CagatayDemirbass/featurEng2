{
 "cells": [
  {
   "cell_type": "code",
   "execution_count": 1,
   "metadata": {},
   "outputs": [
    {
     "data": {
      "text/html": [
       "<div>\n",
       "<style scoped>\n",
       "    .dataframe tbody tr th:only-of-type {\n",
       "        vertical-align: middle;\n",
       "    }\n",
       "\n",
       "    .dataframe tbody tr th {\n",
       "        vertical-align: top;\n",
       "    }\n",
       "\n",
       "    .dataframe thead th {\n",
       "        text-align: right;\n",
       "    }\n",
       "</style>\n",
       "<table border=\"1\" class=\"dataframe\">\n",
       "  <thead>\n",
       "    <tr style=\"text-align: right;\">\n",
       "      <th></th>\n",
       "      <th>Rating</th>\n",
       "      <th>Timestamp</th>\n",
       "      <th>Enrolled</th>\n",
       "      <th>Progress</th>\n",
       "      <th>Questions Asked</th>\n",
       "      <th>Questions Answered</th>\n",
       "    </tr>\n",
       "  </thead>\n",
       "  <tbody>\n",
       "    <tr>\n",
       "      <th>0</th>\n",
       "      <td>5.0</td>\n",
       "      <td>2021-02-05 07:45:55</td>\n",
       "      <td>2021-01-25 15:12:08</td>\n",
       "      <td>5.0</td>\n",
       "      <td>0.0</td>\n",
       "      <td>0.0</td>\n",
       "    </tr>\n",
       "    <tr>\n",
       "      <th>1</th>\n",
       "      <td>5.0</td>\n",
       "      <td>2021-02-04 21:05:32</td>\n",
       "      <td>2021-02-04 20:43:40</td>\n",
       "      <td>1.0</td>\n",
       "      <td>0.0</td>\n",
       "      <td>0.0</td>\n",
       "    </tr>\n",
       "    <tr>\n",
       "      <th>2</th>\n",
       "      <td>4.5</td>\n",
       "      <td>2021-02-04 20:34:03</td>\n",
       "      <td>2019-07-04 23:23:27</td>\n",
       "      <td>1.0</td>\n",
       "      <td>0.0</td>\n",
       "      <td>0.0</td>\n",
       "    </tr>\n",
       "    <tr>\n",
       "      <th>3</th>\n",
       "      <td>5.0</td>\n",
       "      <td>2021-02-04 16:56:28</td>\n",
       "      <td>2021-02-04 14:41:29</td>\n",
       "      <td>10.0</td>\n",
       "      <td>0.0</td>\n",
       "      <td>0.0</td>\n",
       "    </tr>\n",
       "    <tr>\n",
       "      <th>4</th>\n",
       "      <td>4.0</td>\n",
       "      <td>2021-02-04 15:00:24</td>\n",
       "      <td>2020-10-13 03:10:07</td>\n",
       "      <td>10.0</td>\n",
       "      <td>0.0</td>\n",
       "      <td>0.0</td>\n",
       "    </tr>\n",
       "  </tbody>\n",
       "</table>\n",
       "</div>"
      ],
      "text/plain": [
       "   Rating            Timestamp             Enrolled  Progress  \\\n",
       "0     5.0  2021-02-05 07:45:55  2021-01-25 15:12:08       5.0   \n",
       "1     5.0  2021-02-04 21:05:32  2021-02-04 20:43:40       1.0   \n",
       "2     4.5  2021-02-04 20:34:03  2019-07-04 23:23:27       1.0   \n",
       "3     5.0  2021-02-04 16:56:28  2021-02-04 14:41:29      10.0   \n",
       "4     4.0  2021-02-04 15:00:24  2020-10-13 03:10:07      10.0   \n",
       "\n",
       "   Questions Asked  Questions Answered  \n",
       "0              0.0                 0.0  \n",
       "1              0.0                 0.0  \n",
       "2              0.0                 0.0  \n",
       "3              0.0                 0.0  \n",
       "4              0.0                 0.0  "
      ]
     },
     "execution_count": 1,
     "metadata": {},
     "output_type": "execute_result"
    }
   ],
   "source": [
    "import pandas as pd\n",
    "df = pd.read_csv(\"course_reviews.csv\")\n",
    "df.head()"
   ]
  },
  {
   "cell_type": "code",
   "execution_count": 2,
   "metadata": {},
   "outputs": [
    {
     "name": "stdout",
     "output_type": "stream",
     "text": [
      "<class 'pandas.core.frame.DataFrame'>\n",
      "RangeIndex: 4323 entries, 0 to 4322\n",
      "Data columns (total 6 columns):\n",
      " #   Column              Non-Null Count  Dtype  \n",
      "---  ------              --------------  -----  \n",
      " 0   Rating              4323 non-null   float64\n",
      " 1   Timestamp           4323 non-null   object \n",
      " 2   Enrolled            4323 non-null   object \n",
      " 3   Progress            4323 non-null   float64\n",
      " 4   Questions Asked     4323 non-null   float64\n",
      " 5   Questions Answered  4323 non-null   float64\n",
      "dtypes: float64(4), object(2)\n",
      "memory usage: 202.8+ KB\n"
     ]
    }
   ],
   "source": [
    "df.info()"
   ]
  },
  {
   "cell_type": "code",
   "execution_count": 3,
   "metadata": {},
   "outputs": [
    {
     "name": "stdout",
     "output_type": "stream",
     "text": [
      "<class 'pandas.core.frame.DataFrame'>\n",
      "RangeIndex: 4323 entries, 0 to 4322\n",
      "Data columns (total 6 columns):\n",
      " #   Column              Non-Null Count  Dtype         \n",
      "---  ------              --------------  -----         \n",
      " 0   Rating              4323 non-null   float64       \n",
      " 1   Timestamp           4323 non-null   datetime64[ns]\n",
      " 2   Enrolled            4323 non-null   datetime64[ns]\n",
      " 3   Progress            4323 non-null   float64       \n",
      " 4   Questions Asked     4323 non-null   float64       \n",
      " 5   Questions Answered  4323 non-null   float64       \n",
      "dtypes: datetime64[ns](2), float64(4)\n",
      "memory usage: 202.8 KB\n"
     ]
    }
   ],
   "source": [
    "df[[\"Timestamp\",\"Enrolled\"]]=df[[\"Timestamp\",\"Enrolled\"]].apply(pd.to_datetime)\n",
    "df.info()"
   ]
  },
  {
   "cell_type": "code",
   "execution_count": 4,
   "metadata": {},
   "outputs": [
    {
     "data": {
      "text/plain": [
       "datetime.date(2023, 8, 9)"
      ]
     },
     "execution_count": 4,
     "metadata": {},
     "output_type": "execute_result"
    }
   ],
   "source": [
    "from datetime import date\n",
    "import datetime as dt\n",
    "date.today()"
   ]
  },
  {
   "cell_type": "code",
   "execution_count": 5,
   "metadata": {},
   "outputs": [
    {
     "data": {
      "text/plain": [
       "0       2\n",
       "1       2\n",
       "2       2\n",
       "3       2\n",
       "4       2\n",
       "       ..\n",
       "4318    4\n",
       "4319    4\n",
       "4320    4\n",
       "4321    4\n",
       "4322    4\n",
       "Name: Timestamp, Length: 4323, dtype: int32"
      ]
     },
     "execution_count": 5,
     "metadata": {},
     "output_type": "execute_result"
    }
   ],
   "source": [
    "date.today().year - df[\"Timestamp\"].dt.year"
   ]
  },
  {
   "cell_type": "code",
   "execution_count": 6,
   "metadata": {},
   "outputs": [
    {
     "data": {
      "text/plain": [
       "0        915 days, 0:00:00\n",
       "1        916 days, 0:00:00\n",
       "2        916 days, 0:00:00\n",
       "3        916 days, 0:00:00\n",
       "4        916 days, 0:00:00\n",
       "               ...        \n",
       "4318    1545 days, 0:00:00\n",
       "4319    1546 days, 0:00:00\n",
       "4320    1546 days, 0:00:00\n",
       "4321    1546 days, 0:00:00\n",
       "4322    1546 days, 0:00:00\n",
       "Name: Timestamp, Length: 4323, dtype: object"
      ]
     },
     "execution_count": 6,
     "metadata": {},
     "output_type": "execute_result"
    }
   ],
   "source": [
    "a=(date.today() - df[\"Timestamp\"].dt.date)\n",
    "a"
   ]
  },
  {
   "cell_type": "code",
   "execution_count": 7,
   "metadata": {},
   "outputs": [],
   "source": [
    "a = a.astype(\"O\")"
   ]
  },
  {
   "cell_type": "code",
   "execution_count": 8,
   "metadata": {},
   "outputs": [
    {
     "data": {
      "text/plain": [
       "0        915\n",
       "1        916\n",
       "2        916\n",
       "3        916\n",
       "4        916\n",
       "        ... \n",
       "4318    1545\n",
       "4319    1546\n",
       "4320    1546\n",
       "4321    1546\n",
       "4322    1546\n",
       "Name: Timestamp, Length: 4323, dtype: object"
      ]
     },
     "execution_count": 8,
     "metadata": {},
     "output_type": "execute_result"
    }
   ],
   "source": [
    "a.apply(lambda x:str(x).split()[0])"
   ]
  },
  {
   "cell_type": "code",
   "execution_count": 9,
   "metadata": {},
   "outputs": [
    {
     "data": {
      "text/plain": [
       "Timestamp('2023-08-09 00:00:00')"
      ]
     },
     "execution_count": 9,
     "metadata": {},
     "output_type": "execute_result"
    }
   ],
   "source": [
    "pd.Timestamp(date.today())"
   ]
  },
  {
   "cell_type": "code",
   "execution_count": 10,
   "metadata": {},
   "outputs": [
    {
     "data": {
      "text/plain": [
       "0        914\n",
       "1        915\n",
       "2        915\n",
       "3        915\n",
       "4        915\n",
       "        ... \n",
       "4318    1544\n",
       "4319    1545\n",
       "4320    1545\n",
       "4321    1545\n",
       "4322    1545\n",
       "Name: Timestamp, Length: 4323, dtype: int64"
      ]
     },
     "execution_count": 10,
     "metadata": {},
     "output_type": "execute_result"
    }
   ],
   "source": [
    "(pd.Timestamp(date.today()) - df[\"Timestamp\"]).dt.days"
   ]
  },
  {
   "cell_type": "code",
   "execution_count": 11,
   "metadata": {},
   "outputs": [
    {
     "data": {
      "text/plain": [
       "Timestamp('2023-09-05 00:00:00')"
      ]
     },
     "execution_count": 11,
     "metadata": {},
     "output_type": "execute_result"
    }
   ],
   "source": [
    "pd.Timestamp(\"2023-09-05\")"
   ]
  },
  {
   "cell_type": "code",
   "execution_count": 12,
   "metadata": {},
   "outputs": [
    {
     "data": {
      "text/plain": [
       "datetime.date(2023, 8, 9)"
      ]
     },
     "execution_count": 12,
     "metadata": {},
     "output_type": "execute_result"
    }
   ],
   "source": [
    "today_date=date.today()\n",
    "today_date"
   ]
  },
  {
   "cell_type": "code",
   "execution_count": 13,
   "metadata": {},
   "outputs": [
    {
     "data": {
      "text/plain": [
       "0        915 days, 0:00:00\n",
       "1        916 days, 0:00:00\n",
       "2        916 days, 0:00:00\n",
       "3        916 days, 0:00:00\n",
       "4        916 days, 0:00:00\n",
       "               ...        \n",
       "4318    1545 days, 0:00:00\n",
       "4319    1546 days, 0:00:00\n",
       "4320    1546 days, 0:00:00\n",
       "4321    1546 days, 0:00:00\n",
       "4322    1546 days, 0:00:00\n",
       "Name: Timestamp, Length: 4323, dtype: object"
      ]
     },
     "execution_count": 13,
     "metadata": {},
     "output_type": "execute_result"
    }
   ],
   "source": [
    "(today_date - df[\"Timestamp\"].dt.date)"
   ]
  },
  {
   "cell_type": "code",
   "execution_count": 14,
   "metadata": {},
   "outputs": [
    {
     "data": {
      "text/plain": [
       "Timestamp  0        915 days, 0:00:00\n",
       "           1        916 days, 0:00:00\n",
       "           2        916 days, 0:00:00\n",
       "           3        916 days, 0:00:00\n",
       "           4        916 days, 0:00:00\n",
       "                          ...        \n",
       "           4318    1545 days, 0:00:00\n",
       "           4319    1546 days, 0:00:00\n",
       "           4320    1546 days, 0:00:00\n",
       "           4321    1546 days, 0:00:00\n",
       "           4322    1546 days, 0:00:00\n",
       "Name: Timestamp, Length: 4323, dtype: object"
      ]
     },
     "execution_count": 14,
     "metadata": {},
     "output_type": "execute_result"
    }
   ],
   "source": [
    "df[\"Timestamp\"].agg({\"Timestamp\":lambda date:(today_date- date.dt.date)})"
   ]
  },
  {
   "cell_type": "code",
   "execution_count": 15,
   "metadata": {},
   "outputs": [
    {
     "data": {
      "text/plain": [
       "Timestamp  0        915 days, 0:00:00\n",
       "           1        916 days, 0:00:00\n",
       "           2        916 days, 0:00:00\n",
       "           3        916 days, 0:00:00\n",
       "           4        916 days, 0:00:00\n",
       "                          ...        \n",
       "           4318    1545 days, 0:00:00\n",
       "           4319    1546 days, 0:00:00\n",
       "           4320    1546 days, 0:00:00\n",
       "           4321    1546 days, 0:00:00\n",
       "           4322    1546 days, 0:00:00\n",
       "Name: Timestamp, Length: 4323, dtype: object"
      ]
     },
     "execution_count": 15,
     "metadata": {},
     "output_type": "execute_result"
    }
   ],
   "source": [
    "df[\"Timestamp\"].agg({\"Timestamp\":lambda date: (today_date-date.dt.date)})"
   ]
  },
  {
   "cell_type": "code",
   "execution_count": 16,
   "metadata": {},
   "outputs": [
    {
     "data": {
      "text/plain": [
       "0       2021-02-05\n",
       "1       2021-02-04\n",
       "2       2021-02-04\n",
       "3       2021-02-04\n",
       "4       2021-02-04\n",
       "           ...    \n",
       "4318    2019-05-17\n",
       "4319    2019-05-16\n",
       "4320    2019-05-16\n",
       "4321    2019-05-16\n",
       "4322    2019-05-16\n",
       "Name: Timestamp, Length: 4323, dtype: object"
      ]
     },
     "execution_count": 16,
     "metadata": {},
     "output_type": "execute_result"
    }
   ],
   "source": [
    "df[\"Timestamp\"].dt.date"
   ]
  },
  {
   "cell_type": "code",
   "execution_count": 17,
   "metadata": {},
   "outputs": [
    {
     "data": {
      "text/plain": [
       "Timestamp('2023-08-09 00:00:00')"
      ]
     },
     "execution_count": 17,
     "metadata": {},
     "output_type": "execute_result"
    }
   ],
   "source": [
    "pd.Timestamp.now().normalize()"
   ]
  },
  {
   "cell_type": "code",
   "execution_count": 18,
   "metadata": {},
   "outputs": [
    {
     "data": {
      "text/plain": [
       "0       914 days 16:14:05\n",
       "1       915 days 02:54:28\n",
       "2       915 days 03:25:57\n",
       "3       915 days 07:03:32\n",
       "4       915 days 08:59:36\n",
       "              ...        \n",
       "4318   1544 days 14:08:16\n",
       "4319   1545 days 02:32:55\n",
       "4320   1545 days 03:37:34\n",
       "4321   1545 days 04:10:53\n",
       "4322   1545 days 10:19:25\n",
       "Name: Timestamp, Length: 4323, dtype: timedelta64[ns]"
      ]
     },
     "execution_count": 18,
     "metadata": {},
     "output_type": "execute_result"
    }
   ],
   "source": [
    "today_date = pd.Timestamp.now().normalize()\n",
    "(today_date - df[\"Timestamp\"])"
   ]
  },
  {
   "cell_type": "code",
   "execution_count": 19,
   "metadata": {},
   "outputs": [
    {
     "data": {
      "text/plain": [
       "Timestamp  0        914\n",
       "           1        915\n",
       "           2        915\n",
       "           3        915\n",
       "           4        915\n",
       "                   ... \n",
       "           4318    1544\n",
       "           4319    1545\n",
       "           4320    1545\n",
       "           4321    1545\n",
       "           4322    1545\n",
       "Name: Timestamp, Length: 4323, dtype: int64"
      ]
     },
     "execution_count": 19,
     "metadata": {},
     "output_type": "execute_result"
    }
   ],
   "source": [
    "df[\"Timestamp\"].agg({\"Timestamp\":lambda date: (today_date-date).dt.days})"
   ]
  },
  {
   "cell_type": "code",
   "execution_count": 20,
   "metadata": {},
   "outputs": [],
   "source": [
    "df[\"a\"] = df[\"Timestamp\"].dt.date"
   ]
  },
  {
   "cell_type": "code",
   "execution_count": 21,
   "metadata": {},
   "outputs": [],
   "source": [
    "df[\"b\"] = df[\"Timestamp\"].dt.date"
   ]
  },
  {
   "cell_type": "code",
   "execution_count": 22,
   "metadata": {},
   "outputs": [],
   "source": [
    "df[\"b\"]=pd.to_datetime(df[\"b\"])"
   ]
  },
  {
   "cell_type": "code",
   "execution_count": 27,
   "metadata": {},
   "outputs": [],
   "source": [
    "df[\"a\"] = pd.to_datetime(df[\"a\"])"
   ]
  },
  {
   "cell_type": "code",
   "execution_count": 28,
   "metadata": {},
   "outputs": [
    {
     "data": {
      "text/plain": [
       "0      2021-02-05\n",
       "1      2021-02-04\n",
       "2      2021-02-04\n",
       "3      2021-02-04\n",
       "4      2021-02-04\n",
       "          ...    \n",
       "4318   2019-05-17\n",
       "4319   2019-05-16\n",
       "4320   2019-05-16\n",
       "4321   2019-05-16\n",
       "4322   2019-05-16\n",
       "Name: a, Length: 4323, dtype: datetime64[ns]"
      ]
     },
     "execution_count": 28,
     "metadata": {},
     "output_type": "execute_result"
    }
   ],
   "source": [
    "df[\"a\"]"
   ]
  },
  {
   "cell_type": "code",
   "execution_count": 29,
   "metadata": {},
   "outputs": [
    {
     "data": {
      "text/plain": [
       "0       0\n",
       "1       0\n",
       "2       0\n",
       "3       0\n",
       "4       0\n",
       "       ..\n",
       "4318    0\n",
       "4319    0\n",
       "4320    0\n",
       "4321    0\n",
       "4322    0\n",
       "Length: 4323, dtype: int64"
      ]
     },
     "execution_count": 29,
     "metadata": {},
     "output_type": "execute_result"
    }
   ],
   "source": [
    "(df[\"a\"] - df[\"b\"]).dt.days"
   ]
  },
  {
   "cell_type": "code",
   "execution_count": 30,
   "metadata": {},
   "outputs": [
    {
     "data": {
      "text/plain": [
       "0        915\n",
       "1        916\n",
       "2        916\n",
       "3        916\n",
       "4        916\n",
       "        ... \n",
       "4318    1545\n",
       "4319    1546\n",
       "4320    1546\n",
       "4321    1546\n",
       "4322    1546\n",
       "Name: a, Length: 4323, dtype: int64"
      ]
     },
     "execution_count": 30,
     "metadata": {},
     "output_type": "execute_result"
    }
   ],
   "source": [
    "(today_date -df[\"a\"]).dt.days"
   ]
  },
  {
   "cell_type": "code",
   "execution_count": 31,
   "metadata": {},
   "outputs": [
    {
     "data": {
      "text/plain": [
       "0        942\n",
       "1        943\n",
       "2        943\n",
       "3        943\n",
       "4        943\n",
       "        ... \n",
       "4318    1572\n",
       "4319    1573\n",
       "4320    1573\n",
       "4321    1573\n",
       "4322    1573\n",
       "Name: a, Length: 4323, dtype: int64"
      ]
     },
     "execution_count": 31,
     "metadata": {},
     "output_type": "execute_result"
    }
   ],
   "source": [
    "(pd.Timestamp(\"2023-09-05\") - df[\"a\"]).dt.days"
   ]
  },
  {
   "cell_type": "code",
   "execution_count": 34,
   "metadata": {},
   "outputs": [
    {
     "data": {
      "text/plain": [
       "a  0        915\n",
       "   1        916\n",
       "   2        916\n",
       "   3        916\n",
       "   4        916\n",
       "           ... \n",
       "   4318    1545\n",
       "   4319    1546\n",
       "   4320    1546\n",
       "   4321    1546\n",
       "   4322    1546\n",
       "Name: a, Length: 4323, dtype: int64"
      ]
     },
     "execution_count": 34,
     "metadata": {},
     "output_type": "execute_result"
    }
   ],
   "source": [
    "df[\"a\"].agg({\"a\":lambda date: (today_date-date).days})"
   ]
  },
  {
   "cell_type": "code",
   "execution_count": 33,
   "metadata": {},
   "outputs": [
    {
     "data": {
      "text/plain": [
       "a  0        915\n",
       "   1        916\n",
       "   2        916\n",
       "   3        916\n",
       "   4        916\n",
       "           ... \n",
       "   4318    1545\n",
       "   4319    1546\n",
       "   4320    1546\n",
       "   4321    1546\n",
       "   4322    1546\n",
       "Name: a, Length: 4323, dtype: int64"
      ]
     },
     "execution_count": 33,
     "metadata": {},
     "output_type": "execute_result"
    }
   ],
   "source": [
    "df[\"a\"].agg({\"a\":lambda date: (today_date-date).dt.days})"
   ]
  },
  {
   "cell_type": "code",
   "execution_count": null,
   "metadata": {},
   "outputs": [
    {
     "data": {
      "text/plain": [
       "0       2\n",
       "1       2\n",
       "2       2\n",
       "3       2\n",
       "4       2\n",
       "       ..\n",
       "4318    4\n",
       "4319    4\n",
       "4320    4\n",
       "4321    4\n",
       "4322    4\n",
       "Name: a, Length: 4323, dtype: int32"
      ]
     },
     "execution_count": 121,
     "metadata": {},
     "output_type": "execute_result"
    }
   ],
   "source": [
    "(pd.Timestamp(\"2023-09-05\").year - df[\"a\"].dt.year)"
   ]
  },
  {
   "cell_type": "code",
   "execution_count": null,
   "metadata": {},
   "outputs": [
    {
     "data": {
      "text/plain": [
       "0       30\n",
       "1       30\n",
       "2       30\n",
       "3       30\n",
       "4       30\n",
       "        ..\n",
       "4318    51\n",
       "4319    51\n",
       "4320    51\n",
       "4321    51\n",
       "4322    51\n",
       "Name: Timestamp, Length: 4323, dtype: int32"
      ]
     },
     "execution_count": 127,
     "metadata": {},
     "output_type": "execute_result"
    }
   ],
   "source": [
    "(today_date.year - df[\"Timestamp\"].dt.year) * 12 + today_date.month - df[\"Timestamp\"].dt.month"
   ]
  },
  {
   "cell_type": "code",
   "execution_count": null,
   "metadata": {},
   "outputs": [
    {
     "data": {
      "text/plain": [
       "0         Friday\n",
       "1       Thursday\n",
       "2       Thursday\n",
       "3       Thursday\n",
       "4       Thursday\n",
       "          ...   \n",
       "4318      Friday\n",
       "4319    Thursday\n",
       "4320    Thursday\n",
       "4321    Thursday\n",
       "4322    Thursday\n",
       "Name: Timestamp, Length: 4323, dtype: object"
      ]
     },
     "execution_count": 130,
     "metadata": {},
     "output_type": "execute_result"
    }
   ],
   "source": [
    "df[\"Timestamp\"].dt.day_name()"
   ]
  },
  {
   "cell_type": "code",
   "execution_count": null,
   "metadata": {},
   "outputs": [],
   "source": [
    "df = pd.read_csv(\"titanic.csv\")"
   ]
  },
  {
   "cell_type": "code",
   "execution_count": null,
   "metadata": {},
   "outputs": [],
   "source": [
    "df[\"new_age_pclass\"] = df[\"Age\"] * df[\"Pclass\"]"
   ]
  },
  {
   "cell_type": "code",
   "execution_count": null,
   "metadata": {},
   "outputs": [],
   "source": [
    "df[\"new_family_size\"] = df[\"SibSp\"] + df[\"Parch\"] + 1"
   ]
  },
  {
   "cell_type": "code",
   "execution_count": null,
   "metadata": {},
   "outputs": [],
   "source": [
    "df.loc[(df[\"Sex\"]==\"male\") & (df[\"Age\"]<=21),\"new_sex_cat\"] = \"youngmale\"\n",
    "df.loc[(df[\"Sex\"]==\"male\") & (df[\"Age\"]>21) & (df[\"Age\"]<=50),\"new_sex_cat\"] = \"maturemale\"\n",
    "df.loc[(df[\"Sex\"]==\"male\") & (df[\"Age\"]>50),\"new_sex_cat\"] = \"seniormale\"\n",
    "\n",
    "df.loc[(df[\"Sex\"]==\"female\") & (df[\"Age\"]<=21),\"new_sex_cat\"] = \"youngfemale\"\n",
    "df.loc[(df[\"Sex\"]==\"female\") & (df[\"Age\"]>21) & (df[\"Age\"]<=50),\"new_sex_cat\"] = \"maturefemale\"\n",
    "df.loc[(df[\"Sex\"]==\"female\") & (df[\"Age\"]>50),\"new_sex_cat\"] = \"seniorfemale\""
   ]
  },
  {
   "cell_type": "code",
   "execution_count": null,
   "metadata": {},
   "outputs": [
    {
     "data": {
      "text/html": [
       "<div>\n",
       "<style scoped>\n",
       "    .dataframe tbody tr th:only-of-type {\n",
       "        vertical-align: middle;\n",
       "    }\n",
       "\n",
       "    .dataframe tbody tr th {\n",
       "        vertical-align: top;\n",
       "    }\n",
       "\n",
       "    .dataframe thead tr th {\n",
       "        text-align: left;\n",
       "    }\n",
       "\n",
       "    .dataframe thead tr:last-of-type th {\n",
       "        text-align: right;\n",
       "    }\n",
       "</style>\n",
       "<table border=\"1\" class=\"dataframe\">\n",
       "  <thead>\n",
       "    <tr>\n",
       "      <th></th>\n",
       "      <th colspan=\"2\" halign=\"left\">Survived</th>\n",
       "    </tr>\n",
       "    <tr>\n",
       "      <th></th>\n",
       "      <th>mean</th>\n",
       "      <th>count</th>\n",
       "    </tr>\n",
       "    <tr>\n",
       "      <th>new_sex_cat</th>\n",
       "      <th></th>\n",
       "      <th></th>\n",
       "    </tr>\n",
       "  </thead>\n",
       "  <tbody>\n",
       "    <tr>\n",
       "      <th>maturefemale</th>\n",
       "      <td>0.775000</td>\n",
       "      <td>160</td>\n",
       "    </tr>\n",
       "    <tr>\n",
       "      <th>maturemale</th>\n",
       "      <td>0.199301</td>\n",
       "      <td>286</td>\n",
       "    </tr>\n",
       "    <tr>\n",
       "      <th>seniorfemale</th>\n",
       "      <td>0.941176</td>\n",
       "      <td>17</td>\n",
       "    </tr>\n",
       "    <tr>\n",
       "      <th>seniormale</th>\n",
       "      <td>0.127660</td>\n",
       "      <td>47</td>\n",
       "    </tr>\n",
       "    <tr>\n",
       "      <th>youngfemale</th>\n",
       "      <td>0.678571</td>\n",
       "      <td>84</td>\n",
       "    </tr>\n",
       "    <tr>\n",
       "      <th>youngmale</th>\n",
       "      <td>0.250000</td>\n",
       "      <td>120</td>\n",
       "    </tr>\n",
       "  </tbody>\n",
       "</table>\n",
       "</div>"
      ],
      "text/plain": [
       "              Survived      \n",
       "                  mean count\n",
       "new_sex_cat                 \n",
       "maturefemale  0.775000   160\n",
       "maturemale    0.199301   286\n",
       "seniorfemale  0.941176    17\n",
       "seniormale    0.127660    47\n",
       "youngfemale   0.678571    84\n",
       "youngmale     0.250000   120"
      ]
     },
     "execution_count": 135,
     "metadata": {},
     "output_type": "execute_result"
    }
   ],
   "source": [
    "df.groupby(\"new_sex_cat\").agg({\"Survived\":[\"mean\",\"count\"]})"
   ]
  },
  {
   "cell_type": "code",
   "execution_count": null,
   "metadata": {},
   "outputs": [
    {
     "data": {
      "text/plain": [
       "0        Mr\n",
       "1       Mrs\n",
       "2      Miss\n",
       "3       Mrs\n",
       "4        Mr\n",
       "       ... \n",
       "886     Rev\n",
       "887    Miss\n",
       "888    Miss\n",
       "889      Mr\n",
       "890      Mr\n",
       "Name: Name, Length: 891, dtype: object"
      ]
     },
     "execution_count": 140,
     "metadata": {},
     "output_type": "execute_result"
    }
   ],
   "source": [
    "df[\"Name\"].str.extract(\" ([A-Za-z]+).\",expand=False)"
   ]
  },
  {
   "cell_type": "code",
   "execution_count": null,
   "metadata": {},
   "outputs": [],
   "source": []
  }
 ],
 "metadata": {
  "kernelspec": {
   "display_name": "Python 3",
   "language": "python",
   "name": "python3"
  },
  "language_info": {
   "codemirror_mode": {
    "name": "ipython",
    "version": 3
   },
   "file_extension": ".py",
   "mimetype": "text/x-python",
   "name": "python",
   "nbconvert_exporter": "python",
   "pygments_lexer": "ipython3",
   "version": "3.10.11"
  },
  "orig_nbformat": 4
 },
 "nbformat": 4,
 "nbformat_minor": 2
}
